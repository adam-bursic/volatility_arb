{
 "cells": [
  {
   "cell_type": "markdown",
   "id": "0f9f82ed-c0b5-493c-9967-eb3bd7f5eda4",
   "metadata": {},
   "source": [
    "## Short Straddle Calculator"
   ]
  },
  {
   "cell_type": "code",
   "execution_count": 3,
   "id": "4d300281-2485-4981-b157-272f8f80102e",
   "metadata": {},
   "outputs": [],
   "source": [
    "import QuantLib as ql\n",
    "import pandas as pd"
   ]
  },
  {
   "cell_type": "code",
   "execution_count": 4,
   "id": "4b5b6b09-570f-4b05-a023-23c8b3bf76d4",
   "metadata": {},
   "outputs": [],
   "source": [
    "def short_straddle_calc(initiation, DTE, strike, spot, IV, divd, rf, market='NullCalendar'):\n",
    "    \"\"\"\n",
    "    Calculates the Short Straddle value and greeks\n",
    "    initiation: date as serialNumber (excel format), eg. 42310 = 2025-11-02\n",
    "    IV (implied volatility), divd (dividends) and rf (riskfree rate) as decimal\n",
    "    market: the country calender, defaults to NullCalendar\n",
    "    \"\"\"\n",
    "\n",
    "    trade_date = ql.Date(initiation)\n",
    "    ql.Settings.instance().evaluationDate = trade_date\n",
    "    try:\n",
    "        calendar = getattr(ql, market)()\n",
    "    except AttributeError:\n",
    "        raise ValueError(f\"Unknown market calendar: {market}\")\n",
    "\n",
    "    expiry = ql.Date(initiation) + DTE\n",
    "    strike_price = strike\n",
    "    call = ql.Option.Call\n",
    "    put = ql.Option.Put\n",
    "    spot_price = spot\n",
    "    volatility = IV\n",
    "    dividend_rate = divd\n",
    "    risk_free_rate = rf\n",
    "\n",
    "    call_payoff = ql.PlainVanillaPayoff(call, strike_price)\n",
    "    put_payoff = ql.PlainVanillaPayoff(put, strike_price)\n",
    "    \n",
    "    exercise = ql.EuropeanExercise(expiry)\n",
    "    call_option = ql.VanillaOption(call_payoff, exercise)\n",
    "    put_option = ql.VanillaOption(put_payoff, exercise)\n",
    "\n",
    "    spot_handle = ql.QuoteHandle(ql.SimpleQuote(spot_price))\n",
    "    volatility_handle = ql.BlackVolTermStructureHandle(\n",
    "        ql.BlackConstantVol(ql.Date(initiation), calendar, ql.QuoteHandle(ql.SimpleQuote(volatility)), ql.Actual365Fixed()))\n",
    "    dividend_handle = ql.YieldTermStructureHandle(\n",
    "        ql.FlatForward(ql.Date(initiation), ql.QuoteHandle(ql.SimpleQuote(dividend_rate)), ql.Actual365Fixed()))\n",
    "    risk_free_handle = ql.YieldTermStructureHandle(\n",
    "        ql.FlatForward(ql.Date(initiation), ql.QuoteHandle(ql.SimpleQuote(risk_free_rate)), ql.Actual365Fixed()))\n",
    "\n",
    "    bsm_process = ql.BlackScholesMertonProcess(spot_handle, dividend_handle, risk_free_handle, volatility_handle)\n",
    "\n",
    "    call_option.setPricingEngine(ql.AnalyticEuropeanEngine(bsm_process))\n",
    "    put_option.setPricingEngine(ql.AnalyticEuropeanEngine(bsm_process))\n",
    "\n",
    "    call_price = call_option.NPV()\n",
    "    put_price = put_option.NPV()\n",
    "    call_delta = call_option.delta()\n",
    "    put_delta = put_option.delta()\n",
    "    call_gamma = call_option.gamma()\n",
    "    put_gamma = put_option.gamma()\n",
    "    call_vega = call_option.vega()\n",
    "    put_vega = put_option.vega()\n",
    "    call_theta = call_option.theta()\n",
    "    put_theta = put_option.theta()\n",
    "    \n",
    "    straddle_value = call_price + put_price\n",
    "    straddle_delta = -(call_delta + put_delta)\n",
    "    straddle_gamma = -(call_gamma + put_gamma)\n",
    "    straddle_vega = -(call_vega + put_vega) / 100\n",
    "    straddle_theta = -(call_theta + put_theta) / 100\n",
    "\n",
    "    return pd.Series(\n",
    "        {\"Value\": straddle_value,\n",
    "         \"Delta\": straddle_delta,\n",
    "         \"Gamma\": straddle_gamma,\n",
    "         \"Vega\":  straddle_vega,\n",
    "         \"Theta\": straddle_theta\n",
    "        })"
   ]
  },
  {
   "cell_type": "code",
   "execution_count": 5,
   "id": "b451aaa5-4493-4396-ac49-7ef408703bb5",
   "metadata": {},
   "outputs": [
    {
     "data": {
      "text/plain": [
       "Value    57.074082\n",
       "Delta    -0.025491\n",
       "Gamma    -0.011146\n",
       "Vega     -2.873941\n",
       "Theta     4.957478\n",
       "dtype: float64"
      ]
     },
     "execution_count": 5,
     "metadata": {},
     "output_type": "execute_result"
    }
   ],
   "source": [
    "short_straddle_calc(initiation=42310, DTE=21, strike=1502.437012, spot=1502.437012, IV=0.19854101, divd=0, rf=0.00674, market='Sweden')"
   ]
  },
  {
   "cell_type": "code",
   "execution_count": null,
   "id": "7b7d12f5-cb98-47ac-96a3-19634e0e8297",
   "metadata": {},
   "outputs": [],
   "source": []
  }
 ],
 "metadata": {
  "kernelspec": {
   "display_name": "Python 3 (ipykernel)",
   "language": "python",
   "name": "python3"
  },
  "language_info": {
   "codemirror_mode": {
    "name": "ipython",
    "version": 3
   },
   "file_extension": ".py",
   "mimetype": "text/x-python",
   "name": "python",
   "nbconvert_exporter": "python",
   "pygments_lexer": "ipython3",
   "version": "3.12.4"
  }
 },
 "nbformat": 4,
 "nbformat_minor": 5
}
