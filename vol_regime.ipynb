{
 "cells": [
  {
   "cell_type": "markdown",
   "id": "d77b6708-fda8-4c54-aad8-463d90197b7a",
   "metadata": {},
   "source": [
    "## Volatility Regime Indicator"
   ]
  },
  {
   "cell_type": "code",
   "execution_count": null,
   "id": "2e0962d0-c54d-49da-b890-26d8d6383af2",
   "metadata": {},
   "outputs": [],
   "source": []
  }
 ],
 "metadata": {
  "kernelspec": {
   "display_name": "Python 3 (ipykernel)",
   "language": "python",
   "name": "python3"
  },
  "language_info": {
   "codemirror_mode": {
    "name": "ipython",
    "version": 3
   },
   "file_extension": ".py",
   "mimetype": "text/x-python",
   "name": "python",
   "nbconvert_exporter": "python",
   "pygments_lexer": "ipython3",
   "version": "3.12.4"
  }
 },
 "nbformat": 4,
 "nbformat_minor": 5
}
